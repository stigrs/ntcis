{
 "cells": [
  {
   "cell_type": "code",
   "execution_count": null,
   "id": "e46b5ef4",
   "metadata": {},
   "outputs": [],
   "source": [
    "from ntcis.network_topology import NetworkTopology"
   ]
  },
  {
   "cell_type": "code",
   "execution_count": null,
   "id": "e8539991",
   "metadata": {},
   "outputs": [],
   "source": [
    "model = NetworkTopology(\"example1.csv\")"
   ]
  },
  {
   "cell_type": "code",
   "execution_count": null,
   "id": "18ee59b2",
   "metadata": {
    "scrolled": true
   },
   "outputs": [],
   "source": [
    "%matplotlib inline\n",
    "model.plot()"
   ]
  },
  {
   "cell_type": "code",
   "execution_count": null,
   "id": "9b76a8e5",
   "metadata": {},
   "outputs": [],
   "source": [
    "node_degree = model.node_degree_centrality()\n",
    "for node in node_degree.items():\n",
    "    print(\"%-8s\\t%f\" % (node[0], node[1]))"
   ]
  },
  {
   "cell_type": "code",
   "execution_count": null,
   "id": "230aa7cb",
   "metadata": {},
   "outputs": [],
   "source": [
    "node_in_degree = model.node_in_degree_centrality()\n",
    "for node in node_in_degree.items():\n",
    "    print(\"%-8s\\t%f\" % (node[0], node[1]))"
   ]
  },
  {
   "cell_type": "code",
   "execution_count": null,
   "id": "d51f968a",
   "metadata": {},
   "outputs": [],
   "source": [
    "node_out_degree = model.node_out_degree_centrality()\n",
    "for node in node_out_degree.items():\n",
    "    print(\"%-8s\\t%f\" % (node[0], node[1]))"
   ]
  },
  {
   "cell_type": "code",
   "execution_count": null,
   "id": "9a15f9ab",
   "metadata": {},
   "outputs": [],
   "source": [
    "edge_betweenness = model.edge_betweenness_centrality()\n",
    "for edge in edge_betweenness.items():\n",
    "    print(\"(%-7s, %-7s) \\t%f\" % (edge[0][0], edge[0][1], edge[1]))"
   ]
  },
  {
   "cell_type": "code",
   "execution_count": null,
   "id": "538ea7c9",
   "metadata": {},
   "outputs": [],
   "source": [
    "eigen_in_centrality = model.eigenvector_centrality()\n",
    "for node in eigen_in_centrality.items():\n",
    "    print(\"%-8s\\t%f\" % (node[0], node[1]))"
   ]
  },
  {
   "cell_type": "code",
   "execution_count": null,
   "id": "cd8f8328",
   "metadata": {},
   "outputs": [],
   "source": [
    "eigen_out_centrality = model.eigenvector_centrality(out_edges=True)\n",
    "for node in eigen_out_centrality.items():\n",
    "    print(\"%-8s\\t%f\" % (node[0], node[1]))"
   ]
  },
  {
   "cell_type": "code",
   "execution_count": null,
   "id": "eb703221",
   "metadata": {},
   "outputs": [],
   "source": [
    "print(model.articulation_points())"
   ]
  },
  {
   "cell_type": "code",
   "execution_count": null,
   "id": "7f459986",
   "metadata": {},
   "outputs": [],
   "source": []
  }
 ],
 "metadata": {
  "kernelspec": {
   "display_name": "Python [conda env:Anaconda3]",
   "language": "python",
   "name": "conda-env-Anaconda3-py"
  },
  "language_info": {
   "codemirror_mode": {
    "name": "ipython",
    "version": 3
   },
   "file_extension": ".py",
   "mimetype": "text/x-python",
   "name": "python",
   "nbconvert_exporter": "python",
   "pygments_lexer": "ipython3",
   "version": "3.8.10"
  }
 },
 "nbformat": 4,
 "nbformat_minor": 5
}
